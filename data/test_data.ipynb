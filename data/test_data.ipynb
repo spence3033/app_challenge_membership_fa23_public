{
 "cells": [
  {
   "cell_type": "code",
   "execution_count": 1,
   "metadata": {},
   "outputs": [],
   "source": [
    "#%%\n",
    "import polars as pl\n",
    "import pyarrow as pa\n",
    "import pyarrow.parquet as pq"
   ]
  },
  {
   "cell_type": "code",
   "execution_count": 2,
   "metadata": {},
   "outputs": [],
   "source": [
    "county = pl.read_parquet('../data/active_members_county.parquet')\n",
    "tract = pl.read_parquet(\"../data/active_members_tract.parquet\")\n",
    "chapel_scrape = pl.read_parquet(\"../data/full_church_building_data-20.parquet\")\n",
    "chapel_safegraph = pl.read_parquet(\"../data/safegraph_chapel.parquet\")\n",
    "temples = pl.from_arrow(pq.read_table(\"../data/temple_details_spatial.parquet\"))\n",
    "tract_nearest = pl.from_arrow(pq.read_table(\"../data/tract_distance_to_nearest_temple.parquet\"))"
   ]
  },
  {
   "cell_type": "code",
   "execution_count": 3,
   "metadata": {},
   "outputs": [
    {
     "data": {
      "text/html": [
       "<div><style>\n",
       ".dataframe > thead > tr > th,\n",
       ".dataframe > tbody > tr > td {\n",
       "  text-align: right;\n",
       "  white-space: pre-wrap;\n",
       "}\n",
       "</style>\n",
       "<small>shape: (5, 9)</small><table border=\"1\" class=\"dataframe\"><thead><tr><th>STATEFP</th><th>COUNTYFP</th><th>population</th><th>active_members_estimate</th><th>state_name</th><th>county_name</th><th>rcensus_lds</th><th>ratio_census</th><th>ratio_population</th></tr><tr><td>str</td><td>str</td><td>i64</td><td>f64</td><td>str</td><td>str</td><td>f64</td><td>f64</td><td>f64</td></tr></thead><tbody><tr><td>&quot;36&quot;</td><td>&quot;087&quot;</td><td>305461</td><td>254.0</td><td>&quot;New York&quot;</td><td>&quot;Rockland Count…</td><td>1126.0</td><td>0.23</td><td>0.0</td></tr><tr><td>&quot;36&quot;</td><td>&quot;067&quot;</td><td>463704</td><td>1105.0</td><td>&quot;New York&quot;</td><td>&quot;Onondaga Count…</td><td>1689.0</td><td>0.65</td><td>0.0</td></tr><tr><td>&quot;16&quot;</td><td>&quot;061&quot;</td><td>3761</td><td>0.0</td><td>&quot;Idaho&quot;</td><td>&quot;Lewis County&quot;</td><td>0.0</td><td>null</td><td>0.0</td></tr><tr><td>&quot;23&quot;</td><td>&quot;017&quot;</td><td>57867</td><td>20.0</td><td>&quot;Maine&quot;</td><td>&quot;Oxford County&quot;</td><td>246.0</td><td>0.08</td><td>0.0</td></tr><tr><td>&quot;01&quot;</td><td>&quot;105&quot;</td><td>10684</td><td>0.0</td><td>&quot;Alabama&quot;</td><td>&quot;Perry County&quot;</td><td>0.0</td><td>null</td><td>0.0</td></tr></tbody></table></div>"
      ],
      "text/plain": [
       "shape: (5, 9)\n",
       "┌─────────┬──────────┬────────────┬────────────┬───┬───────────┬───────────┬───────────┬───────────┐\n",
       "│ STATEFP ┆ COUNTYFP ┆ population ┆ active_mem ┆ … ┆ county_na ┆ rcensus_l ┆ ratio_cen ┆ ratio_pop │\n",
       "│ ---     ┆ ---      ┆ ---        ┆ bers_estim ┆   ┆ me        ┆ ds        ┆ sus       ┆ ulation   │\n",
       "│ str     ┆ str      ┆ i64        ┆ ate        ┆   ┆ ---       ┆ ---       ┆ ---       ┆ ---       │\n",
       "│         ┆          ┆            ┆ ---        ┆   ┆ str       ┆ f64       ┆ f64       ┆ f64       │\n",
       "│         ┆          ┆            ┆ f64        ┆   ┆           ┆           ┆           ┆           │\n",
       "╞═════════╪══════════╪════════════╪════════════╪═══╪═══════════╪═══════════╪═══════════╪═══════════╡\n",
       "│ 36      ┆ 087      ┆ 305461     ┆ 254.0      ┆ … ┆ Rockland  ┆ 1126.0    ┆ 0.23      ┆ 0.0       │\n",
       "│         ┆          ┆            ┆            ┆   ┆ County    ┆           ┆           ┆           │\n",
       "│ 36      ┆ 067      ┆ 463704     ┆ 1105.0     ┆ … ┆ Onondaga  ┆ 1689.0    ┆ 0.65      ┆ 0.0       │\n",
       "│         ┆          ┆            ┆            ┆   ┆ County    ┆           ┆           ┆           │\n",
       "│ 16      ┆ 061      ┆ 3761       ┆ 0.0        ┆ … ┆ Lewis     ┆ 0.0       ┆ null      ┆ 0.0       │\n",
       "│         ┆          ┆            ┆            ┆   ┆ County    ┆           ┆           ┆           │\n",
       "│ 23      ┆ 017      ┆ 57867      ┆ 20.0       ┆ … ┆ Oxford    ┆ 246.0     ┆ 0.08      ┆ 0.0       │\n",
       "│         ┆          ┆            ┆            ┆   ┆ County    ┆           ┆           ┆           │\n",
       "│ 01      ┆ 105      ┆ 10684      ┆ 0.0        ┆ … ┆ Perry     ┆ 0.0       ┆ null      ┆ 0.0       │\n",
       "│         ┆          ┆            ┆            ┆   ┆ County    ┆           ┆           ┆           │\n",
       "└─────────┴──────────┴────────────┴────────────┴───┴───────────┴───────────┴───────────┴───────────┘"
      ]
     },
     "execution_count": 3,
     "metadata": {},
     "output_type": "execute_result"
    }
   ],
   "source": [
    "county.limit(5)"
   ]
  },
  {
   "cell_type": "code",
   "execution_count": 4,
   "metadata": {},
   "outputs": [
    {
     "data": {
      "text/html": [
       "<div><style>\n",
       ".dataframe > thead > tr > th,\n",
       ".dataframe > tbody > tr > td {\n",
       "  text-align: right;\n",
       "  white-space: pre-wrap;\n",
       "}\n",
       "</style>\n",
       "<small>shape: (5, 4)</small><table border=\"1\" class=\"dataframe\"><thead><tr><th>home</th><th>population</th><th>active_members_estimate</th><th>proportion</th></tr><tr><td>str</td><td>i64</td><td>f64</td><td>f64</td></tr></thead><tbody><tr><td>&quot;01001020100&quot;</td><td>1809</td><td>0.0</td><td>0.0</td></tr><tr><td>&quot;01001020200&quot;</td><td>2020</td><td>8.0</td><td>0.00396</td></tr><tr><td>&quot;01001020300&quot;</td><td>3543</td><td>6.0</td><td>0.001693</td></tr><tr><td>&quot;01001020400&quot;</td><td>4840</td><td>6.0</td><td>0.00124</td></tr><tr><td>&quot;01001020500&quot;</td><td>9938</td><td>21.0</td><td>0.002113</td></tr></tbody></table></div>"
      ],
      "text/plain": [
       "shape: (5, 4)\n",
       "┌─────────────┬────────────┬─────────────────────────┬────────────┐\n",
       "│ home        ┆ population ┆ active_members_estimate ┆ proportion │\n",
       "│ ---         ┆ ---        ┆ ---                     ┆ ---        │\n",
       "│ str         ┆ i64        ┆ f64                     ┆ f64        │\n",
       "╞═════════════╪════════════╪═════════════════════════╪════════════╡\n",
       "│ 01001020100 ┆ 1809       ┆ 0.0                     ┆ 0.0        │\n",
       "│ 01001020200 ┆ 2020       ┆ 8.0                     ┆ 0.00396    │\n",
       "│ 01001020300 ┆ 3543       ┆ 6.0                     ┆ 0.001693   │\n",
       "│ 01001020400 ┆ 4840       ┆ 6.0                     ┆ 0.00124    │\n",
       "│ 01001020500 ┆ 9938       ┆ 21.0                    ┆ 0.002113   │\n",
       "└─────────────┴────────────┴─────────────────────────┴────────────┘"
      ]
     },
     "execution_count": 4,
     "metadata": {},
     "output_type": "execute_result"
    }
   ],
   "source": [
    "tract.limit(5)"
   ]
  },
  {
   "cell_type": "code",
   "execution_count": 5,
   "metadata": {},
   "outputs": [
    {
     "data": {
      "text/html": [
       "<div><style>\n",
       ".dataframe > thead > tr > th,\n",
       ".dataframe > tbody > tr > td {\n",
       "  text-align: right;\n",
       "  white-space: pre-wrap;\n",
       "}\n",
       "</style>\n",
       "<small>shape: (5, 14)</small><table border=\"1\" class=\"dataframe\"><thead><tr><th>initial_address</th><th>initial_county</th><th>state</th><th>lat</th><th>lon</th><th>full_address</th><th>address_line_1</th><th>address_line_2</th><th>area</th><th>zip</th><th>zip_ext</th><th>plus_code</th><th>size</th><th>place_id</th></tr><tr><td>str</td><td>str</td><td>str</td><td>f64</td><td>f64</td><td>str</td><td>str</td><td>str</td><td>str</td><td>str</td><td>str</td><td>str</td><td>f64</td><td>str</td></tr></thead><tbody><tr><td>&quot;210 Lacey Aven…</td><td>&quot;alabaster&quot;</td><td>&quot;al&quot;</td><td>33.223753</td><td>-86.86462</td><td>&quot;210 Lacey Aven…</td><td>&quot;210 LACEY AVE&quot;</td><td>&quot;ALABASTER AL 3…</td><td>&quot;ALABASTER&quot;</td><td>&quot;35114&quot;</td><td>null</td><td>&quot;865M64FP+G5&quot;</td><td>31.701792</td><td>&quot;ChIJ1eqYitQniY…</td></tr><tr><td>&quot;801 N Cedar St…</td><td>&quot;ajo&quot;</td><td>&quot;az&quot;</td><td>32.379189</td><td>-112.866316</td><td>&quot;801 North Ceda…</td><td>&quot;801 N CEDAR ST…</td><td>&quot;AJO AZ 85321-2…</td><td>&quot;AJO&quot;</td><td>&quot;85321&quot;</td><td>&quot;2110&quot;</td><td>&quot;854994HM+MF&quot;</td><td>51.353264</td><td>&quot;ChIJGfLW2vNY1Y…</td></tr><tr><td>&quot;201 Canterbury…</td><td>&quot;alma&quot;</td><td>&quot;ar&quot;</td><td>35.504507</td><td>-94.227809</td><td>&quot;201 Canterbury…</td><td>&quot;201 CANTERBURY…</td><td>&quot;ALMA AR 72921-…</td><td>&quot;ALMA&quot;</td><td>&quot;72921&quot;</td><td>&quot;4707&quot;</td><td>&quot;8677GQ3C+RV&quot;</td><td>34.9065</td><td>&quot;ChIJDWs5meTHy4…</td></tr><tr><td>&quot;300 Richardson…</td><td>&quot;alamosa&quot;</td><td>&quot;co&quot;</td><td>37.469908</td><td>-105.877931</td><td>&quot;300 Richardson…</td><td>&quot;300 RICHARDSON…</td><td>&quot;ALAMOSA CO 811…</td><td>&quot;ALAMOSA&quot;</td><td>&quot;81101&quot;</td><td>&quot;2328&quot;</td><td>&quot;859PF49C+XR&quot;</td><td>43.390896</td><td>&quot;ChIJb5QfpfV7Fo…</td></tr><tr><td>&quot;2501 Maplewood…</td><td>&quot;anchorage&quot;</td><td>&quot;ak&quot;</td><td>61.198109</td><td>-149.844815</td><td>&quot;2501 Maplewood…</td><td>&quot;2501 MAPLEWOOD…</td><td>&quot;ANCHORAGE AK 9…</td><td>&quot;ANCHORAGE&quot;</td><td>&quot;99508&quot;</td><td>&quot;4056&quot;</td><td>&quot;93HG55X4+63&quot;</td><td>45.65418</td><td>&quot;ChIJ7X4z07KXyF…</td></tr></tbody></table></div>"
      ],
      "text/plain": [
       "shape: (5, 14)\n",
       "┌─────────────┬────────────┬───────┬───────────┬───┬─────────┬────────────┬───────────┬────────────┐\n",
       "│ initial_add ┆ initial_co ┆ state ┆ lat       ┆ … ┆ zip_ext ┆ plus_code  ┆ size      ┆ place_id   │\n",
       "│ ress        ┆ unty       ┆ ---   ┆ ---       ┆   ┆ ---     ┆ ---        ┆ ---       ┆ ---        │\n",
       "│ ---         ┆ ---        ┆ str   ┆ f64       ┆   ┆ str     ┆ str        ┆ f64       ┆ str        │\n",
       "│ str         ┆ str        ┆       ┆           ┆   ┆         ┆            ┆           ┆            │\n",
       "╞═════════════╪════════════╪═══════╪═══════════╪═══╪═════════╪════════════╪═══════════╪════════════╡\n",
       "│ 210 Lacey   ┆ alabaster  ┆ al    ┆ 33.223753 ┆ … ┆ null    ┆ 865M64FP+G ┆ 31.701792 ┆ ChIJ1eqYit │\n",
       "│ Avenue      ┆            ┆       ┆           ┆   ┆         ┆ 5          ┆           ┆ QniYgRFN4f │\n",
       "│             ┆            ┆       ┆           ┆   ┆         ┆            ┆           ┆ UXr5mh4    │\n",
       "│ 801 N Cedar ┆ ajo        ┆ az    ┆ 32.379189 ┆ … ┆ 2110    ┆ 854994HM+M ┆ 51.353264 ┆ ChIJGfLW2v │\n",
       "│ St          ┆            ┆       ┆           ┆   ┆         ┆ F          ┆           ┆ NY1YARCdAW │\n",
       "│             ┆            ┆       ┆           ┆   ┆         ┆            ┆           ┆ 5-jF4c4    │\n",
       "│ 201         ┆ alma       ┆ ar    ┆ 35.504507 ┆ … ┆ 4707    ┆ 8677GQ3C+R ┆ 34.9065   ┆ ChIJDWs5me │\n",
       "│ Canterbury  ┆            ┆       ┆           ┆   ┆         ┆ V          ┆           ┆ THy4cR7Bze │\n",
       "│ Drive       ┆            ┆       ┆           ┆   ┆         ┆            ┆           ┆ 62N789A    │\n",
       "│ 300         ┆ alamosa    ┆ co    ┆ 37.469908 ┆ … ┆ 2328    ┆ 859PF49C+X ┆ 43.390896 ┆ ChIJb5Qfpf │\n",
       "│ Richardson  ┆            ┆       ┆           ┆   ┆         ┆ R          ┆           ┆ V7FocRSpzT │\n",
       "│ Avenue      ┆            ┆       ┆           ┆   ┆         ┆            ┆           ┆ Im_dQFA    │\n",
       "│ 2501        ┆ anchorage  ┆ ak    ┆ 61.198109 ┆ … ┆ 4056    ┆ 93HG55X4+6 ┆ 45.65418  ┆ ChIJ7X4z07 │\n",
       "│ Maplewood   ┆            ┆       ┆           ┆   ┆         ┆ 3          ┆           ┆ KXyFYRQNcZ │\n",
       "│ Street      ┆            ┆       ┆           ┆   ┆         ┆            ┆           ┆ 7caXCB8    │\n",
       "└─────────────┴────────────┴───────┴───────────┴───┴─────────┴────────────┴───────────┴────────────┘"
      ]
     },
     "execution_count": 5,
     "metadata": {},
     "output_type": "execute_result"
    }
   ],
   "source": [
    "chapel_scrape.limit(5)"
   ]
  },
  {
   "cell_type": "code",
   "execution_count": 6,
   "metadata": {},
   "outputs": [
    {
     "data": {
      "text/html": [
       "<div><style>\n",
       ".dataframe > thead > tr > th,\n",
       ".dataframe > tbody > tr > td {\n",
       "  text-align: right;\n",
       "  white-space: pre-wrap;\n",
       "}\n",
       "</style>\n",
       "<small>shape: (5, 11)</small><table border=\"1\" class=\"dataframe\"><thead><tr><th>placekey</th><th>street_address</th><th>city</th><th>region</th><th>postal_code</th><th>wkt_area_sq_meters</th><th>initial_address</th><th>dist</th><th>point</th><th>point_chapel</th><th>location_name</th></tr><tr><td>str</td><td>str</td><td>str</td><td>str</td><td>str</td><td>f64</td><td>str</td><td>f64</td><td>list[i8]</td><td>list[i8]</td><td>str</td></tr></thead><tbody><tr><td>&quot;222-222@3bk-j6…</td><td>&quot;1516 Selief Ln…</td><td>&quot;Kodiak&quot;</td><td>&quot;AK&quot;</td><td>&quot;99615&quot;</td><td>1665.0</td><td>&quot;13559 Seward H…</td><td>3.814792</td><td>[1, 1, … 64]</td><td>[1, 1, … 64]</td><td>&quot;The Church of …</td></tr><tr><td>&quot;222-222@5nw-yn…</td><td>&quot;100 El Camino …</td><td>&quot;Norfolk&quot;</td><td>&quot;NE&quot;</td><td>&quot;68701&quot;</td><td>691.0</td><td>&quot;2700 Ensign Dr…</td><td>3.745428</td><td>[1, 1, … 64]</td><td>[1, 1, … 64]</td><td>&quot;The Church of …</td></tr><tr><td>&quot;222-222@5p4-bb…</td><td>&quot;2822 Canyon La…</td><td>&quot;Rapid City&quot;</td><td>&quot;SD&quot;</td><td>&quot;57702&quot;</td><td>2145.0</td><td>&quot;1215 SW 5th St…</td><td>3.747592</td><td>[1, 1, … 64]</td><td>[1, 1, … 64]</td><td>&quot;The Church of …</td></tr><tr><td>&quot;222-222@5pm-vd…</td><td>&quot;923 Pipkin Rd&quot;</td><td>&quot;Jackson&quot;</td><td>&quot;TN&quot;</td><td>&quot;38305&quot;</td><td>1506.0</td><td>&quot;342 West Main …</td><td>3.750858</td><td>[1, 1, … 64]</td><td>[1, 1, … 64]</td><td>&quot;The Church of …</td></tr><tr><td>&quot;222-222@5pn-r3…</td><td>&quot;902 E Clark Bl…</td><td>&quot;Murfreesboro&quot;</td><td>&quot;TN&quot;</td><td>&quot;37130&quot;</td><td>1830.0</td><td>&quot;4610 North Ben…</td><td>3.756448</td><td>[1, 1, … 64]</td><td>[1, 1, … 64]</td><td>&quot;The Church of …</td></tr></tbody></table></div>"
      ],
      "text/plain": [
       "shape: (5, 11)\n",
       "┌────────────┬────────────┬────────────┬────────┬───┬──────────┬───────────┬───────────┬───────────┐\n",
       "│ placekey   ┆ street_add ┆ city       ┆ region ┆ … ┆ dist     ┆ point     ┆ point_cha ┆ location_ │\n",
       "│ ---        ┆ ress       ┆ ---        ┆ ---    ┆   ┆ ---      ┆ ---       ┆ pel       ┆ name      │\n",
       "│ str        ┆ ---        ┆ str        ┆ str    ┆   ┆ f64      ┆ list[i8]  ┆ ---       ┆ ---       │\n",
       "│            ┆ str        ┆            ┆        ┆   ┆          ┆           ┆ list[i8]  ┆ str       │\n",
       "╞════════════╪════════════╪════════════╪════════╪═══╪══════════╪═══════════╪═══════════╪═══════════╡\n",
       "│ 222-222@3b ┆ 1516       ┆ Kodiak     ┆ AK     ┆ … ┆ 3.814792 ┆ [1, 1, …  ┆ [1, 1, …  ┆ The       │\n",
       "│ k-j6j-4sq  ┆ Selief Ln  ┆            ┆        ┆   ┆          ┆ 64]       ┆ 64]       ┆ Church of │\n",
       "│            ┆            ┆            ┆        ┆   ┆          ┆           ┆           ┆ Jesus     │\n",
       "│            ┆            ┆            ┆        ┆   ┆          ┆           ┆           ┆ Christ of │\n",
       "│            ┆            ┆            ┆        ┆   ┆          ┆           ┆           ┆ La…       │\n",
       "│ 222-222@5n ┆ 100 El     ┆ Norfolk    ┆ NE     ┆ … ┆ 3.745428 ┆ [1, 1, …  ┆ [1, 1, …  ┆ The       │\n",
       "│ w-ynz-fj9  ┆ Camino Dr  ┆            ┆        ┆   ┆          ┆ 64]       ┆ 64]       ┆ Church of │\n",
       "│            ┆            ┆            ┆        ┆   ┆          ┆           ┆           ┆ Jesus     │\n",
       "│            ┆            ┆            ┆        ┆   ┆          ┆           ┆           ┆ Christ of │\n",
       "│            ┆            ┆            ┆        ┆   ┆          ┆           ┆           ┆ La…       │\n",
       "│ 222-222@5p ┆ 2822       ┆ Rapid City ┆ SD     ┆ … ┆ 3.747592 ┆ [1, 1, …  ┆ [1, 1, …  ┆ The       │\n",
       "│ 4-bb4-8jv  ┆ Canyon     ┆            ┆        ┆   ┆          ┆ 64]       ┆ 64]       ┆ Church of │\n",
       "│            ┆ Lake Dr    ┆            ┆        ┆   ┆          ┆           ┆           ┆ Jesus     │\n",
       "│            ┆            ┆            ┆        ┆   ┆          ┆           ┆           ┆ Christ of │\n",
       "│            ┆            ┆            ┆        ┆   ┆          ┆           ┆           ┆ La…       │\n",
       "│ 222-222@5p ┆ 923 Pipkin ┆ Jackson    ┆ TN     ┆ … ┆ 3.750858 ┆ [1, 1, …  ┆ [1, 1, …  ┆ The       │\n",
       "│ m-vd4-p5f  ┆ Rd         ┆            ┆        ┆   ┆          ┆ 64]       ┆ 64]       ┆ Church of │\n",
       "│            ┆            ┆            ┆        ┆   ┆          ┆           ┆           ┆ Jesus     │\n",
       "│            ┆            ┆            ┆        ┆   ┆          ┆           ┆           ┆ Christ of │\n",
       "│            ┆            ┆            ┆        ┆   ┆          ┆           ┆           ┆ La…       │\n",
       "│ 222-222@5p ┆ 902 E      ┆ Murfreesbo ┆ TN     ┆ … ┆ 3.756448 ┆ [1, 1, …  ┆ [1, 1, …  ┆ The       │\n",
       "│ n-r3q-v2k  ┆ Clark Blvd ┆ ro         ┆        ┆   ┆          ┆ 64]       ┆ 64]       ┆ Church of │\n",
       "│            ┆            ┆            ┆        ┆   ┆          ┆           ┆           ┆ Jesus     │\n",
       "│            ┆            ┆            ┆        ┆   ┆          ┆           ┆           ┆ Christ of │\n",
       "│            ┆            ┆            ┆        ┆   ┆          ┆           ┆           ┆ La…       │\n",
       "└────────────┴────────────┴────────────┴────────┴───┴──────────┴───────────┴───────────┴───────────┘"
      ]
     },
     "execution_count": 6,
     "metadata": {},
     "output_type": "execute_result"
    }
   ],
   "source": [
    "chapel_safegraph.limit(5)"
   ]
  },
  {
   "cell_type": "code",
   "execution_count": 7,
   "metadata": {},
   "outputs": [
    {
     "data": {
      "text/html": [
       "<div><style>\n",
       ".dataframe > thead > tr > th,\n",
       ".dataframe > tbody > tr > td {\n",
       "  text-align: right;\n",
       "  white-space: pre-wrap;\n",
       "}\n",
       "</style>\n",
       "<small>shape: (5, 43)</small><table border=\"1\" class=\"dataframe\"><thead><tr><th>temple</th><th>instructionrooms</th><th>sealingrooms</th><th>baptismrooms</th><th>squarefootage</th><th>acreage</th><th>stakes</th><th>districts</th><th>all_units</th><th>elevation_ft</th><th>tower_spire</th><th>att_tower_spire</th><th>angelmoroni</th><th>announcement</th><th>groundbreaking</th><th>dedication</th><th>temple_urls</th><th>temple_address</th><th>lat</th><th>long</th><th>prophet</th><th>interval</th><th>prophet_start</th><th>prophet_end</th><th>location</th><th>status</th><th>date</th><th>templeOrgId</th><th>templeNameId</th><th>city</th><th>stateRegion</th><th>country</th><th>sortDate</th><th>guess_country</th><th>missing_state</th><th>first_word</th><th>lat_general</th><th>long_general</th><th>STATEFP</th><th>COUNTYFP</th><th>TRACTCE</th><th>BLKGRPCE</th><th>GEOID</th></tr><tr><td>str</td><td>f64</td><td>f64</td><td>f64</td><td>f64</td><td>f64</td><td>f64</td><td>f64</td><td>f64</td><td>f64</td><td>f64</td><td>str</td><td>str</td><td>date</td><td>date</td><td>date</td><td>str</td><td>str</td><td>f64</td><td>f64</td><td>str</td><td>struct[2]</td><td>datetime[μs, UTC]</td><td>datetime[μs, UTC]</td><td>str</td><td>str</td><td>str</td><td>i32</td><td>str</td><td>str</td><td>str</td><td>str</td><td>str</td><td>str</td><td>bool</td><td>str</td><td>f64</td><td>f64</td><td>str</td><td>str</td><td>str</td><td>str</td><td>str</td></tr></thead><tbody><tr><td>&quot;Aba Nigeria Te…</td><td>2.0</td><td>2.0</td><td>1.0</td><td>11500.0</td><td>6.3</td><td>70.0</td><td>15.0</td><td>85.0</td><td>192.2</td><td>1.0</td><td>&quot;Attached&quot;</td><td>&quot;Yes&quot;</td><td>2000-04-02</td><td>2002-02-23</td><td>2005-08-07</td><td>&quot;https://church…</td><td>&quot;72-80 Okpu-Umu…</td><td>5.16667</td><td>7.35</td><td>&quot;Gordon B. Hinc…</td><td>{1995-03-12 00:00:00 UTC,4.064256e8}</td><td>1995-03-12 00:00:00 UTC</td><td>2008-01-27 00:00:00 UTC</td><td>&quot;Aba, Abia, Nig…</td><td>&quot;OPERATING&quot;</td><td>&quot;7 August 2005&quot;</td><td>43202</td><td>&quot;aba-nigeria-te…</td><td>&quot;Aba&quot;</td><td>&quot;Abia&quot;</td><td>&quot;Nigeria&quot;</td><td>&quot;August 7, 2005…</td><td>null</td><td>false</td><td>&quot;Aba Nigeria &quot;</td><td>5.1128008</td><td>7.3651376</td><td>null</td><td>null</td><td>null</td><td>null</td><td>null</td></tr><tr><td>&quot;Abidjan Ivory …</td><td>null</td><td>null</td><td>null</td><td>null</td><td>0.55</td><td>null</td><td>null</td><td>null</td><td>173.1</td><td>1.0</td><td>&quot;Attached&quot;</td><td>&quot;Yes&quot;</td><td>2015-04-05</td><td>2018-11-08</td><td>null</td><td>&quot;https://church…</td><td>&quot;1874 Boulevard…</td><td>5.33547</td><td>-4.011394</td><td>&quot;Thomas S. Mons…</td><td>{2008-02-03 00:00:00 UTC,3.128544e8}</td><td>2008-02-03 00:00:00 UTC</td><td>2018-01-02 00:00:00 UTC</td><td>&quot;Abidjan, Côte …</td><td>&quot;CONSTRUCTION&quot;</td><td>&quot;Construction&quot;</td><td>4069710</td><td>&quot;abidjan-ivory-…</td><td>&quot;Abidjan&quot;</td><td>&quot;&quot;</td><td>&quot;Ivory Coast&quot;</td><td>&quot;&quot;</td><td>null</td><td>true</td><td>&quot;Abidjan Ivory …</td><td>5.320357</td><td>-4.016107</td><td>null</td><td>null</td><td>null</td><td>null</td><td>null</td></tr><tr><td>&quot;Accra Ghana Te…</td><td>2.0</td><td>2.0</td><td>1.0</td><td>17500.0</td><td>6.0</td><td>69.0</td><td>27.0</td><td>96.0</td><td>131.8</td><td>1.0</td><td>&quot;Attached&quot;</td><td>&quot;Yes&quot;</td><td>1998-02-16</td><td>2001-11-16</td><td>2004-01-11</td><td>&quot;https://church…</td><td>&quot;57 Independenc…</td><td>5.58123</td><td>-0.17572</td><td>&quot;Gordon B. Hinc…</td><td>{1995-03-12 00:00:00 UTC,4.064256e8}</td><td>1995-03-12 00:00:00 UTC</td><td>2008-01-27 00:00:00 UTC</td><td>&quot;Accra, Greater…</td><td>&quot;OPERATING&quot;</td><td>&quot;11 January 200…</td><td>36549</td><td>&quot;accra-ghana-te…</td><td>&quot;Accra&quot;</td><td>&quot;Greater Accra&quot;</td><td>&quot;Ghana&quot;</td><td>&quot;January 11, 20…</td><td>null</td><td>false</td><td>&quot;Accra Ghana &quot;</td><td>5.5571096</td><td>-0.201238</td><td>null</td><td>null</td><td>null</td><td>null</td><td>null</td></tr><tr><td>&quot;Adelaide Austr…</td><td>2.0</td><td>2.0</td><td>1.0</td><td>10700.0</td><td>6.94</td><td>3.0</td><td>1.0</td><td>4.0</td><td>137.7</td><td>1.0</td><td>&quot;Attached&quot;</td><td>&quot;Yes&quot;</td><td>1999-03-17</td><td>1999-05-29</td><td>2000-06-15</td><td>&quot;https://church…</td><td>&quot;53-59 Lower Po…</td><td>-34.890555</td><td>138.634495</td><td>&quot;Gordon B. Hinc…</td><td>{1995-03-12 00:00:00 UTC,4.064256e8}</td><td>1995-03-12 00:00:00 UTC</td><td>2008-01-27 00:00:00 UTC</td><td>&quot;Marden, South …</td><td>&quot;OPERATING&quot;</td><td>&quot;15 June 2000&quot;</td><td>38298</td><td>&quot;adelaide-austr…</td><td>&quot;Marden&quot;</td><td>&quot;South Australi…</td><td>&quot;Australia&quot;</td><td>&quot;June 15, 2000&quot;</td><td>null</td><td>false</td><td>&quot;Adelaide Austr…</td><td>-34.892564</td><td>138.634739</td><td>null</td><td>null</td><td>null</td><td>null</td><td>null</td></tr><tr><td>&quot;Alabang Philip…</td><td>null</td><td>null</td><td>null</td><td>null</td><td>2.6</td><td>null</td><td>null</td><td>null</td><td>57.5</td><td>1.0</td><td>&quot;Attached&quot;</td><td>&quot;No&quot;</td><td>2017-04-02</td><td>2020-06-04</td><td>null</td><td>&quot;https://church…</td><td>&quot;Filinvest Aven…</td><td>14.41203</td><td>121.03887</td><td>&quot;Thomas S. Mons…</td><td>{2008-02-03 00:00:00 UTC,3.128544e8}</td><td>2008-02-03 00:00:00 UTC</td><td>2018-01-02 00:00:00 UTC</td><td>&quot;Philippines&quot;</td><td>&quot;CONSTRUCTION&quot;</td><td>&quot;Construction&quot;</td><td>4098472</td><td>&quot;alabang-philip…</td><td>&quot;Manila&quot;</td><td>&quot;&quot;</td><td>&quot;Philippines&quot;</td><td>&quot;&quot;</td><td>null</td><td>true</td><td>&quot;Alabang Philip…</td><td>14.590635</td><td>120.979996</td><td>null</td><td>null</td><td>null</td><td>null</td><td>null</td></tr></tbody></table></div>"
      ],
      "text/plain": [
       "shape: (5, 43)\n",
       "┌─────────────┬─────────────┬─────────────┬────────────┬───┬──────────┬─────────┬──────────┬───────┐\n",
       "│ temple      ┆ instruction ┆ sealingroom ┆ baptismroo ┆ … ┆ COUNTYFP ┆ TRACTCE ┆ BLKGRPCE ┆ GEOID │\n",
       "│ ---         ┆ rooms       ┆ s           ┆ ms         ┆   ┆ ---      ┆ ---     ┆ ---      ┆ ---   │\n",
       "│ str         ┆ ---         ┆ ---         ┆ ---        ┆   ┆ str      ┆ str     ┆ str      ┆ str   │\n",
       "│             ┆ f64         ┆ f64         ┆ f64        ┆   ┆          ┆         ┆          ┆       │\n",
       "╞═════════════╪═════════════╪═════════════╪════════════╪═══╪══════════╪═════════╪══════════╪═══════╡\n",
       "│ Aba Nigeria ┆ 2.0         ┆ 2.0         ┆ 1.0        ┆ … ┆ null     ┆ null    ┆ null     ┆ null  │\n",
       "│ Temple      ┆             ┆             ┆            ┆   ┆          ┆         ┆          ┆       │\n",
       "│ Abidjan     ┆ null        ┆ null        ┆ null       ┆ … ┆ null     ┆ null    ┆ null     ┆ null  │\n",
       "│ Ivory Coast ┆             ┆             ┆            ┆   ┆          ┆         ┆          ┆       │\n",
       "│ Temple      ┆             ┆             ┆            ┆   ┆          ┆         ┆          ┆       │\n",
       "│ Accra Ghana ┆ 2.0         ┆ 2.0         ┆ 1.0        ┆ … ┆ null     ┆ null    ┆ null     ┆ null  │\n",
       "│ Temple      ┆             ┆             ┆            ┆   ┆          ┆         ┆          ┆       │\n",
       "│ Adelaide    ┆ 2.0         ┆ 2.0         ┆ 1.0        ┆ … ┆ null     ┆ null    ┆ null     ┆ null  │\n",
       "│ Australia   ┆             ┆             ┆            ┆   ┆          ┆         ┆          ┆       │\n",
       "│ Temple      ┆             ┆             ┆            ┆   ┆          ┆         ┆          ┆       │\n",
       "│ Alabang     ┆ null        ┆ null        ┆ null       ┆ … ┆ null     ┆ null    ┆ null     ┆ null  │\n",
       "│ Philippines ┆             ┆             ┆            ┆   ┆          ┆         ┆          ┆       │\n",
       "│ Temple      ┆             ┆             ┆            ┆   ┆          ┆         ┆          ┆       │\n",
       "└─────────────┴─────────────┴─────────────┴────────────┴───┴──────────┴─────────┴──────────┴───────┘"
      ]
     },
     "execution_count": 7,
     "metadata": {},
     "output_type": "execute_result"
    }
   ],
   "source": [
    "temples.limit(5)"
   ]
  },
  {
   "cell_type": "code",
   "execution_count": 8,
   "metadata": {},
   "outputs": [
    {
     "data": {
      "text/html": [
       "<div><style>\n",
       ".dataframe > thead > tr > th,\n",
       ".dataframe > tbody > tr > td {\n",
       "  text-align: right;\n",
       "  white-space: pre-wrap;\n",
       "}\n",
       "</style>\n",
       "<small>shape: (5, 4)</small><table border=\"1\" class=\"dataframe\"><thead><tr><th>tract</th><th>name</th><th>meters</th><th>miles</th></tr><tr><td>str</td><td>str</td><td>f64</td><td>f64</td></tr></thead><tbody><tr><td>&quot;36061014900&quot;</td><td>&quot;manhattan-new-…</td><td>107.248949</td><td>0.066641</td></tr><tr><td>&quot;49049002400&quot;</td><td>&quot;provo-city-cen…</td><td>163.378405</td><td>0.101519</td></tr><tr><td>&quot;41039002101&quot;</td><td>&quot;willamette-val…</td><td>207.090472</td><td>0.12868</td></tr><tr><td>&quot;06019004214&quot;</td><td>&quot;fresno-califor…</td><td>214.053264</td><td>0.133007</td></tr><tr><td>&quot;36061015300&quot;</td><td>&quot;manhattan-new-…</td><td>216.699319</td><td>0.134651</td></tr></tbody></table></div>"
      ],
      "text/plain": [
       "shape: (5, 4)\n",
       "┌─────────────┬─────────────────────────────────┬────────────┬──────────┐\n",
       "│ tract       ┆ name                            ┆ meters     ┆ miles    │\n",
       "│ ---         ┆ ---                             ┆ ---        ┆ ---      │\n",
       "│ str         ┆ str                             ┆ f64        ┆ f64      │\n",
       "╞═════════════╪═════════════════════════════════╪════════════╪══════════╡\n",
       "│ 36061014900 ┆ manhattan-new-york-temple       ┆ 107.248949 ┆ 0.066641 │\n",
       "│ 49049002400 ┆ provo-city-center-temple        ┆ 163.378405 ┆ 0.101519 │\n",
       "│ 41039002101 ┆ willamette-valley-oregon-temple ┆ 207.090472 ┆ 0.12868  │\n",
       "│ 06019004214 ┆ fresno-california-temple        ┆ 214.053264 ┆ 0.133007 │\n",
       "│ 36061015300 ┆ manhattan-new-york-temple       ┆ 216.699319 ┆ 0.134651 │\n",
       "└─────────────┴─────────────────────────────────┴────────────┴──────────┘"
      ]
     },
     "execution_count": 8,
     "metadata": {},
     "output_type": "execute_result"
    }
   ],
   "source": [
    "tract_nearest.limit(5)"
   ]
  },
  {
   "cell_type": "code",
   "execution_count": null,
   "metadata": {},
   "outputs": [],
   "source": []
  }
 ],
 "metadata": {
  "kernelspec": {
   "display_name": "Python 3",
   "language": "python",
   "name": "python3"
  },
  "language_info": {
   "codemirror_mode": {
    "name": "ipython",
    "version": 3
   },
   "file_extension": ".py",
   "mimetype": "text/x-python",
   "name": "python",
   "nbconvert_exporter": "python",
   "pygments_lexer": "ipython3",
   "version": "3.11.5"
  }
 },
 "nbformat": 4,
 "nbformat_minor": 2
}
